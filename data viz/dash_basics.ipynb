{
 "cells": [
  {
   "cell_type": "code",
   "execution_count": 1,
   "metadata": {},
   "outputs": [
    {
     "name": "stderr",
     "output_type": "stream",
     "text": [
      "/tmp/ipykernel_31240/3018743967.py:4: UserWarning: \n",
      "The dash_html_components package is deprecated. Please replace\n",
      "`import dash_html_components as html` with `from dash import html`\n",
      "  import dash_html_components as html\n",
      "/tmp/ipykernel_31240/3018743967.py:5: UserWarning: \n",
      "The dash_core_components package is deprecated. Please replace\n",
      "`import dash_core_components as dcc` with `from dash import dcc`\n",
      "  import dash_core_components as dcc\n"
     ]
    },
    {
     "name": "stdout",
     "output_type": "stream",
     "text": [
      "       Unnamed: 0  Year  Quarter  Month  DayofMonth  DayOfWeek  FlightDate  \\\n",
      "0         1295781  1998        2      4           2          4  1998-04-02   \n",
      "1         1125375  2013        2      5          13          1  2013-05-13   \n",
      "2          118824  1993        3      9          25          6  1993-09-25   \n",
      "3          634825  1994        4     11          12          6  1994-11-12   \n",
      "4         1888125  2017        3      8          17          4  2017-08-17   \n",
      "...           ...   ...      ...    ...         ...        ...         ...   \n",
      "26995      821542  2017        1      1          24          2  2017-01-24   \n",
      "26996     1910565  2013        2      6          27          4  2013-06-27   \n",
      "26997        9055  2016        3      8          26          5  2016-08-26   \n",
      "26998       84136  2009        3      8           8          6  2009-08-08   \n",
      "26999      113029  1993        3      7          17          6  1993-07-17   \n",
      "\n",
      "      Reporting_Airline  DOT_ID_Reporting_Airline IATA_CODE_Reporting_Airline  \\\n",
      "0                    AS                     19930                          AS   \n",
      "1                    EV                     20366                          EV   \n",
      "2                    UA                     19977                          UA   \n",
      "3                    HP                     19991                          HP   \n",
      "4                    UA                     19977                          UA   \n",
      "...                 ...                       ...                         ...   \n",
      "26995                DL                     19790                          DL   \n",
      "26996                B6                     20409                          B6   \n",
      "26997                AA                     19805                          AA   \n",
      "26998                YV                     20378                          YV   \n",
      "26999                DL                     19790                          DL   \n",
      "\n",
      "       ... Div4WheelsOff  Div4TailNum  Div5Airport  Div5AirportID  \\\n",
      "0      ...           NaN          NaN          NaN            NaN   \n",
      "1      ...           NaN          NaN          NaN            NaN   \n",
      "2      ...           NaN          NaN          NaN            NaN   \n",
      "3      ...           NaN          NaN          NaN            NaN   \n",
      "4      ...           NaN          NaN          NaN            NaN   \n",
      "...    ...           ...          ...          ...            ...   \n",
      "26995  ...           NaN          NaN          NaN            NaN   \n",
      "26996  ...           NaN          NaN          NaN            NaN   \n",
      "26997  ...           NaN          NaN          NaN            NaN   \n",
      "26998  ...           NaN          NaN          NaN            NaN   \n",
      "26999  ...           NaN          NaN          NaN            NaN   \n",
      "\n",
      "       Div5AirportSeqID Div5WheelsOn Div5TotalGTime Div5LongestGTime  \\\n",
      "0                   NaN          NaN            NaN              NaN   \n",
      "1                   NaN          NaN            NaN              NaN   \n",
      "2                   NaN          NaN            NaN              NaN   \n",
      "3                   NaN          NaN            NaN              NaN   \n",
      "4                   NaN          NaN            NaN              NaN   \n",
      "...                 ...          ...            ...              ...   \n",
      "26995               NaN          NaN            NaN              NaN   \n",
      "26996               NaN          NaN            NaN              NaN   \n",
      "26997               NaN          NaN            NaN              NaN   \n",
      "26998               NaN          NaN            NaN              NaN   \n",
      "26999               NaN          NaN            NaN              NaN   \n",
      "\n",
      "       Div5WheelsOff Div5TailNum  \n",
      "0                NaN         NaN  \n",
      "1                NaN         NaN  \n",
      "2                NaN         NaN  \n",
      "3                NaN         NaN  \n",
      "4                NaN         NaN  \n",
      "...              ...         ...  \n",
      "26995            NaN         NaN  \n",
      "26996            NaN         NaN  \n",
      "26997            NaN         NaN  \n",
      "26998            NaN         NaN  \n",
      "26999            NaN         NaN  \n",
      "\n",
      "[27000 rows x 110 columns]\n"
     ]
    }
   ],
   "source": [
    "import pandas as pd\n",
    "import plotly.express as px\n",
    "import dash\n",
    "from dash import html\n",
    "from dash import dcc\n",
    "\n",
    "airline_data =  pd.read_csv('https://cf-courses-data.s3.us.cloud-object-storage.appdomain.cloud/IBMDeveloperSkillsNetwork-DV0101EN-SkillsNetwork/Data%20Files/airline_data.csv', \n",
    "                            encoding = \"ISO-8859-1\",\n",
    "                            dtype={'Div1Airport': str, 'Div1TailNum': str, \n",
    "                                   'Div2Airport': str, 'Div2TailNum': str})\n",
    "\n",
    "print(airline_data)"
   ]
  }
 ],
 "metadata": {
  "kernelspec": {
   "display_name": "Python 3",
   "language": "python",
   "name": "python3"
  },
  "language_info": {
   "codemirror_mode": {
    "name": "ipython",
    "version": 3
   },
   "file_extension": ".py",
   "mimetype": "text/x-python",
   "name": "python",
   "nbconvert_exporter": "python",
   "pygments_lexer": "ipython3",
   "version": "3.10.7 (main, Sep  6 2022, 21:22:27) [GCC 12.2.0]"
  },
  "orig_nbformat": 4,
  "vscode": {
   "interpreter": {
    "hash": "e7370f93d1d0cde622a1f8e1c04877d8463912d04d973331ad4851f04de6915a"
   }
  }
 },
 "nbformat": 4,
 "nbformat_minor": 2
}
